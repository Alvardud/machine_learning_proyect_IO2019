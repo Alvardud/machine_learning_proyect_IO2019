{
 "cells": [
  {
   "cell_type": "code",
   "execution_count": 5,
   "metadata": {},
   "outputs": [],
   "source": [
    "#script que utiliza el modelo de tensorflow (si funciona)\n",
    "\n",
    "import requests\n",
    "import json\n",
    "from keras import backend as K\n",
    "from keras.preprocessing import image\n",
    "\n",
    "\n",
    "img = image.load_img('./edit.jpg', target_size=(48, 48))\n",
    "img_array = image.img_to_array(img)/255\n",
    "\n",
    "#image = img_to_array(load_img('./edit.jpg', target_size=(48,48))) / 255.     "
   ]
  },
  {
   "cell_type": "code",
   "execution_count": 4,
   "metadata": {},
   "outputs": [
    {
     "data": {
      "text/plain": [
       "{'predictions': [[0.138445,\n",
       "   0.0144486,\n",
       "   0.0905378,\n",
       "   0.262173,\n",
       "   0.14382,\n",
       "   0.0542266,\n",
       "   0.296349]]}"
      ]
     },
     "execution_count": 4,
     "metadata": {},
     "output_type": "execute_result"
    }
   ],
   "source": [
    "payload = {\n",
    "  \"instances\": [{'images': img_array.tolist()}]\n",
    "}\n",
    "r = requests.post('http://localhost:9000/v1/models/metodo:predict', json=payload)\n",
    "json.loads(r.content)"
   ]
  }
 ],
 "metadata": {
  "kernelspec": {
   "display_name": "Python 3",
   "language": "python",
   "name": "python3"
  },
  "language_info": {
   "codemirror_mode": {
    "name": "ipython",
    "version": 3
   },
   "file_extension": ".py",
   "mimetype": "text/x-python",
   "name": "python",
   "nbconvert_exporter": "python",
   "pygments_lexer": "ipython3",
   "version": "3.7.2"
  }
 },
 "nbformat": 4,
 "nbformat_minor": 2
}
