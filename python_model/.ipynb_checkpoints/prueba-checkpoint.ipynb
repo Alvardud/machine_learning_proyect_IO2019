{
 "cells": [
  {
   "cell_type": "code",
   "execution_count": 3,
   "metadata": {},
   "outputs": [],
   "source": [
    "from PIL import Image\n",
    "from resizeimage import resizeimage\n",
    "with open('fotografia.jpg', 'r+b') as f:\n",
    "    with Image.open(f) as image:\n",
    "        cover = resizeimage.resize_cover(image, [48, 48])   #cambiamos el tamaño de la imagen\n",
    "        cover.save('edit.jpg', image.format)\n"
   ]
  },
  {
   "cell_type": "code",
   "execution_count": 4,
   "metadata": {},
   "outputs": [],
   "source": [
    "image_file = Image.open(\"edit.jpg\")\n",
    "image_file = image_file.convert('1')  #convierte la imagen en blanco y negro (no recomendado)\n",
    "image_file.save('result.jpg')"
   ]
  },
  {
   "cell_type": "code",
   "execution_count": 21,
   "metadata": {
    "scrolled": false
   },
   "outputs": [],
   "source": [
    "im = Image.open('edit.jpg')\n",
    "pix = im.load()\n",
    "lista = []\n",
    "cadena=\"\"\n",
    "for i in range(0,48):\n",
    "    for j in range(0,48):\n",
    "        #añadiendo a una lista de float\n",
    "        valor = pix[j,i]\n",
    "        vector=int(valor[0]+valor[1]+valor[2])/3\n",
    "        lista.append(vector)\n",
    "        \n",
    "        \n",
    "        #añadiendo a una cadena\n",
    "        cadena=cadena+str(vector)\n",
    "        cadena=cadena+\" \"\n",
    "#print (cadena)"
   ]
  },
  {
   "cell_type": "code",
   "execution_count": 15,
   "metadata": {},
   "outputs": [],
   "source": [
    "import matplotlib\n",
    "import matplotlib.pyplot as plt\n",
    "\n",
    "def show_image_and_label(x):\n",
    "    x_reshaped = x.reshape(48,48)\n",
    "    plt.imshow(x_reshaped, cmap= \"gray\",\n",
    "              interpolation=\"nearest\")\n",
    "    plt.axis(\"off\")\n",
    "    plt.show()"
   ]
  },
  {
   "cell_type": "code",
   "execution_count": 17,
   "metadata": {},
   "outputs": [
    {
     "name": "stdout",
     "output_type": "stream",
     "text": [
      "2305\n"
     ]
    }
   ],
   "source": [
    "import numpy as np\n",
    "\n",
    "#para convertir la cadena en lista flotante\n",
    "\n",
    "listaaux = cadena.split(\" \")\n",
    "print(len(listaaux))\n",
    "listafloat = []\n",
    "for i in range(0,2304):\n",
    "    listafloat.append(float(listaaux[i]))\n",
    "x_pixels = np.array(listafloat, 'float32')\n",
    "\n",
    "#para utilzar la anterior lista flotante\n",
    "#x_pixels = np.array(lista, 'float32')"
   ]
  },
  {
   "cell_type": "code",
   "execution_count": 22,
   "metadata": {},
   "outputs": [],
   "source": [
    "show_image_and_label(x_pixels)"
   ]
  }
 ],
 "metadata": {
  "kernelspec": {
   "display_name": "Python 3",
   "language": "python",
   "name": "python3"
  },
  "language_info": {
   "codemirror_mode": {
    "name": "ipython",
    "version": 3
   },
   "file_extension": ".py",
   "mimetype": "text/x-python",
   "name": "python",
   "nbconvert_exporter": "python",
   "pygments_lexer": "ipython3",
   "version": "3.7.2"
  }
 },
 "nbformat": 4,
 "nbformat_minor": 2
}
